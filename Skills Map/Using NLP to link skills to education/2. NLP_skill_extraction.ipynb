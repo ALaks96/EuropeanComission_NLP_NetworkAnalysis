{
 "cells": [
  {
   "cell_type": "markdown",
   "metadata": {},
   "source": [
    "# NLP DEAP Project"
   ]
  },
  {
   "cell_type": "markdown",
   "metadata": {},
   "source": [
    "# 0. Objectives"
   ]
  },
  {
   "cell_type": "markdown",
   "metadata": {},
   "source": [
    "### PoC 1: Link skills obtained from education programs to skills needed in the labor market to identify skill gaps per sector/job"
   ]
  },
  {
   "cell_type": "markdown",
   "metadata": {},
   "source": [
    "- In order to do so, we scraped online data from different universities across Belgium. We retrieved an exhaustive list of education programs each of them had to offer, alongside the courses within each program and a description of each course. On the other hand, we retrieved the esco dataset which contains a large list of 13000 skills with a skill description attached. Each of these skills are linked to a list of professions/occupations in a graph database manner. \n",
    "- By using the course descriptions and the skill descriptions at hand, we can calculate the similarity between each combination of these two lists of text. In order to do this, we must first \"vectorize\" these strings, namely obtain their numerical representation/translation. There exists many methods to this day to do so (Bag of words, TF-IDF), although we will be using a pre-trained Word2Vec model (Google news vector). The google news vectors provided by Google were obtained via a deep neural net trained on millions of texts (Billions of words), namely they allow to capture to some extent the proximity between two words that do not share a stem. How could you explain that the words \"dog\" and \"cat\" are somewhat similar as they both refer to common household pets? This is covered by the pre-trained Word2Vec model we are using, integrating \"word embeddings\" that take into account words and sentences that have nothing in common at first view but share similar meanings or context. The \"vectorization\" of the strings is then done using the pre-trained word2vec model as a reference (like a dictionary for the spatial representation of each word) and we obtain vectors in a 300-dimension space. We take the mean of each words' representation in that space as a proxy for the whole text. \n",
    "- Once this \"translation\" is provided for all our course and skill descriptions we are able to compute the cosine similarity between the vectors that represent them and thus obtain a number between 0 and 1 representing how close in meaning/context each strings are. We consider a threshold of 0.78, meaning that we do not associate skills to courses if they fall under that limit. If they do, we retrieve the score for each match as well as the text considered. \n",
    "- By proceeding this way, we've associated a list of skills that are most relevant and attached them to each course. Given that we already have the links between the same skill database and occupation, we've thus established the indirect link between courses and occupation. By grouping courses by education program and university, we thus have the link between education programs and occupation and can effectively identify skill gaps. The best suited tool to identify these gaps was considered to be a graph. The contruction of an interactive graph allowing to explore all the links established in this notebook are provided in the R scripts attached to this project.\n",
    "\n",
    "    This notebook contains only the pre-processing, vectorization, cosine similarity computations and recording in new dataframes of our University and skill datasets."
   ]
  },
  {
   "cell_type": "markdown",
   "metadata": {},
   "source": [
    "# 1. The code"
   ]
  },
  {
   "cell_type": "markdown",
   "metadata": {},
   "source": [
    "## 1.1 Loading packages and data"
   ]
  },
  {
   "cell_type": "markdown",
   "metadata": {},
   "source": [
    "#### The packages"
   ]
  },
  {
   "cell_type": "code",
   "execution_count": null,
   "metadata": {},
   "outputs": [],
   "source": [
    "#nltk.download('stopwords')\n",
    "#nltk.download('punkt')\n",
    "#nltk.download('wordnet')"
   ]
  },
  {
   "cell_type": "code",
   "execution_count": 1,
   "metadata": {},
   "outputs": [
    {
     "name": "stderr",
     "output_type": "stream",
     "text": [
      "C:\\Users\\laksa\\Documents\\anaconda_3\\lib\\site-packages\\smart_open\\ssh.py:34: UserWarning: paramiko missing, opening SSH/SCP/SFTP paths will be disabled.  `pip install paramiko` to suppress\n",
      "  warnings.warn('paramiko missing, opening SSH/SCP/SFTP paths will be disabled.  `pip install paramiko` to suppress')\n",
      "C:\\Users\\laksa\\Documents\\anaconda_3\\lib\\site-packages\\gensim\\utils.py:1197: UserWarning: detected Windows; aliasing chunkize to chunkize_serial\n",
      "  warnings.warn(\"detected Windows; aliasing chunkize to chunkize_serial\")\n"
     ]
    }
   ],
   "source": [
    "%matplotlib inline\n",
    "\n",
    "import pandas as pd\n",
    "import numpy as np\n",
    "\n",
    "from collections import Counter\n",
    "from itertools import chain\n",
    "import unidecode\n",
    "\n",
    "import matplotlib.pyplot as plt\n",
    "import seaborn as sns\n",
    "import re\n",
    "\n",
    "import nltk, string\n",
    "from nltk import word_tokenize\n",
    "from nltk.corpus import stopwords\n",
    "from nltk.stem.wordnet import WordNetLemmatizer\n",
    "\n",
    "import gensim\n",
    "from gensim import corpora\n",
    "from gensim.models.word2vec import Word2Vec\n",
    "from gensim.models import KeyedVectors\n",
    "\n",
    "import spacy\n",
    "\n",
    "import pyLDAvis\n",
    "import pyLDAvis.gensim\n",
    "\n",
    "from sklearn.feature_extraction.text import TfidfVectorizer\n",
    "from sklearn.metrics.pairwise import cosine_similarity\n",
    "from sklearn.decomposition import PCA\n",
    "from sklearn.manifold import TSNE\n",
    "from collections import Counter\n",
    "from sklearn.feature_extraction.text import CountVectorizer\n",
    "from sklearn.metrics.pairwise import cosine_similarity\n",
    "\n",
    "\n",
    "import warnings\n",
    "warnings.filterwarnings('ignore')\n",
    "\n",
    "from gensim.similarities import docsim\n",
    "#from DocSim import DocSim\n",
    "\n",
    "import time"
   ]
  },
  {
   "cell_type": "markdown",
   "metadata": {},
   "source": [
    "#### The data "
   ]
  },
  {
   "cell_type": "markdown",
   "metadata": {},
   "source": [
    "Use the read_clean_data function to get rid of any NA's from the data you want to match. The results of this first hand cleaning will be stored in a new column called \"Clean_strings\"."
   ]
  },
  {
   "cell_type": "markdown",
   "metadata": {},
   "source": [
    "As the data that was scraped came in differeny formats, sometimes with complementary information to the course descriptions you may combine them in a same column for matching afterwards! Just specify them in a list and attribute them to the input \"other_columns\""
   ]
  },
  {
   "cell_type": "code",
   "execution_count": 2,
   "metadata": {},
   "outputs": [],
   "source": [
    "def read_clean_data(path,column_name,other_columns = None):\n",
    "    \n",
    "    data = pd.read_csv(str(path), encoding = \"ISO-8859-1\")\n",
    "\n",
    "    \n",
    "    if other_columns:\n",
    "        data['Extended'] = data[str(column_name)]\n",
    "        for col in other_columns:\n",
    "            data['Extended'] = data['Extended'] + data[str(col)].map(str)\n",
    "    \n",
    "    # Reads the data in the path you specified, drops na's and resets the index to avoid concatenation failures afterwards\n",
    "    data.dropna(subset=[column_name],inplace = True)\n",
    "    data.reset_index(drop = True, inplace = True)\n",
    "    \n",
    "    # Takes care of decoding all characters to avoid miss-steps in the datacleaning process!\n",
    "    for i in range(0,len(data)):\n",
    "        if other_columns:\n",
    "            temp1 = data.loc[i,'Extended']\n",
    "            temp2 = unidecode.unidecode(str(temp1))\n",
    "            data.loc[i,\"Clean_strings\"] = temp2\n",
    "        else:\n",
    "            temp1 = data.loc[i,str(column_name)]\n",
    "            temp2 = unidecode.unidecode(str(temp1))\n",
    "            data.loc[i,\"Clean_strings\"] = temp2\n",
    "        \n",
    "    return data"
   ]
  },
  {
   "cell_type": "code",
   "execution_count": 3,
   "metadata": {},
   "outputs": [],
   "source": [
    "malta = read_clean_data(path = \"Scraped Universities/Courses_UMalta.csv\",\n",
    "                        column_name = 'courseDescription',\n",
    "                       other_columns = ['courseDepartment'])\n",
    "skills = read_clean_data(path = \"Scraped Universities/skills_en.csv\",\n",
    "                        column_name = 'description')"
   ]
  },
  {
   "cell_type": "markdown",
   "metadata": {},
   "source": [
    "## 1.2 Tokenizing & Pre-processing"
   ]
  },
  {
   "cell_type": "markdown",
   "metadata": {},
   "source": [
    "#### This section is mainly to reverse engineer the pre-processing we apply to our data. If you want to head directly to matching your two dataframes go to section 1.3!"
   ]
  },
  {
   "cell_type": "markdown",
   "metadata": {},
   "source": [
    " We use four pre-processing steps: \n",
    "    - Stopwords (remove unmeaningful words)\n",
    "    - Punctuations (remove special characters to avoid confusions)\n",
    "    - Lowercase (get rid of uppercase to avoid missing similar words)\n",
    "    - Lemmatization (Keep only the lemma of each word to reduce distance between words which are the same but have a conjugation or are constructed differently given the sentence in which it is used)"
   ]
  },
  {
   "cell_type": "code",
   "execution_count": 5,
   "metadata": {},
   "outputs": [],
   "source": [
    "stopW = stopwords.words('english')\n",
    "stopW += [\"msc\",\"also\",'teaching','class','student',\"classroom\",\"teach\"]\n",
    "special_characters = [\",\",\"?\",\".\",\";\",\"/\",\":\",\"+\",\"=\",\"~\",\"%\",\"´\",\n",
    "                      \"`\",\"¨\",\"^\",\"*\",\"$\",'&',\"|\",\"@\",'\"',\"£\",\n",
    "                      \"'\",\"(\",\")\",\"§\",\"!\",\"{\",\"}\",\"-\",\"_\",\"²\",\"[\",\n",
    "                      \">\",\"<\",\"]\"]\n",
    "\n",
    "transformation_sc_dict = {initial :\" \" for initial in special_characters}\n",
    "lemmatizer = WordNetLemmatizer()\n",
    "\n",
    "def preprocessing(text):\n",
    "    \n",
    "    # Tokenization\n",
    "    tokens = word_tokenize(text)\n",
    "    \n",
    "    # Deleting words with only one character\n",
    "    tokens = [token for token in tokens if len(token)>2]\n",
    "    \n",
    "    # Stopwords + Lowercase\n",
    "    tokens = [token.lower() for token in tokens if token.lower() not in stopW]\n",
    "    \n",
    "    # Deleting specific characters\n",
    "    tokens = [token.translate(str.maketrans(transformation_sc_dict)) for token in tokens]\n",
    "    \n",
    "    # Lemmatization (optional)\n",
    "    tokens = [lemmatizer.lemmatize(lemmatizer.lemmatize(lemmatizer.lemmatize(token, pos = 'a'),pos = 'v'),pos='n') for token in tokens]\n",
    "    \n",
    "    return tokens"
   ]
  },
  {
   "cell_type": "markdown",
   "metadata": {},
   "source": [
    "#### Visaulization tool to reverse engineer pre-processing:"
   ]
  },
  {
   "cell_type": "code",
   "execution_count": 9,
   "metadata": {},
   "outputs": [],
   "source": [
    "def plot_frequent_words(list_of_words):\n",
    "    dist = nltk.FreqDist(list_of_words)\n",
    "    X = [nb[1] for nb in dist.most_common(40)]\n",
    "    y = [nb[0] for nb in dist.most_common(40)]\n",
    "    ax = sns.barplot(X,y)\n",
    "    ax.set(xlabel = 'Word Frequencies', ylabel = 'Words', title = 'Most common words in the corpus')\n",
    "    plt.show()"
   ]
  },
  {
   "cell_type": "code",
   "execution_count": 10,
   "metadata": {},
   "outputs": [
    {
     "data": {
      "image/png": "[encoded data removed]",
      "text/plain": [
       "<Figure size 1944x936 with 1 Axes>"
      ]
     },
     "metadata": {
      "needs_background": "light"
     },
     "output_type": "display_data"
    },
    {
     "name": "stdout",
     "output_type": "stream",
     "text": [
      "415974\n"
     ]
    }
   ],
   "source": [
    "plt.figure(figsize=(27,13))\n",
    "\n",
    "# Just to try it out, apply the pre processing function to the program descriptions.\n",
    "data['tokens'] = data[\"Extended\"].apply(preprocessing)\n",
    "\n",
    "ep_words = data.tokens.tolist()\n",
    "ep_words2 = [[text.strip() for text in descr] for descr in ep_words]\n",
    "clean_words_ep = [[word for word in words if word != ''] for words in ep_words2]\n",
    "data['clean_tokens'] = clean_words_ep\n",
    "\n",
    "ep_full_words = []\n",
    "for descr in clean_words_ep:\n",
    "    for word in descr:\n",
    "        ep_full_words.append(word)\n",
    "        \n",
    "plot_frequent_words(ep_full_words)\n",
    "print(len(ep_full_words))"
   ]
  },
  {
   "cell_type": "markdown",
   "metadata": {},
   "source": [
    "Additionnal analytics were done on our data, including T-SNE, PCA and LDA Model representation of our data. We won't add them hear to avoid clogging the notebook as they only constitute tools to help us visualize what our data represents."
   ]
  },
  {
   "cell_type": "markdown",
   "metadata": {},
   "source": [
    "# 1.3 NLP Automatic matching 1.0 (better 2.0 version in section 1.4 below)"
   ]
  },
  {
   "cell_type": "markdown",
   "metadata": {},
   "source": [
    "## Please check out section 1.4 which is an optimized and facilitated version of our NLP matching"
   ]
  },
  {
   "cell_type": "markdown",
   "metadata": {},
   "source": [
    "Now that the pre-processing has been established and optimized, we can confidently go on to vectorize our strings taking these arranged pre-processing steps into account"
   ]
  },
  {
   "cell_type": "markdown",
   "metadata": {},
   "source": [
    "#### loading google word embeddings"
   ]
  },
  {
   "cell_type": "markdown",
   "metadata": {},
   "source": [
    "As we mentionned in the abstract above, we use Google's pre-trained word2vec model which provides word embeddings. "
   ]
  },
  {
   "cell_type": "code",
   "execution_count": 22,
   "metadata": {},
   "outputs": [],
   "source": [
    "wv_from_bin = KeyedVectors.load_word2vec_format(r'C:\\Users\\laksa\\Documents\\DEAP\\NLP AI\\GoogleNews-vectors-negative300.bin', binary = True)"
   ]
  },
  {
   "cell_type": "markdown",
   "metadata": {},
   "source": [
    "#### Defining the algorithm for cosine similarity using Word2Vec"
   ]
  },
  {
   "cell_type": "markdown",
   "metadata": {},
   "source": [
    "What we've done here is create a class that will take any two strings, apply the pre-processing we've defined above, vectorize using the pre-trained word2vec model, compute the cosine similarity between the two vectors obtained and record them only if the score was above a threshold to be defined (we chose 0.78)"
   ]
  },
  {
   "cell_type": "code",
   "execution_count": 7,
   "metadata": {},
   "outputs": [],
   "source": [
    "punctuation_map = dict((ord(char), None) for char in string.punctuation)\n",
    "class DocSimV1(object):\n",
    "    def __init__(self, w2v_model , stopwords=stopW , remove_punctuation_map=punctuation_map):\n",
    "        self.w2v_model = w2v_model\n",
    "        self.stopwords = stopwords\n",
    "        self.remove_punctuation_map = punctuation_map\n",
    "\n",
    "    def vectorize(self, doc):\n",
    "        \"\"\"Identify the vector values for each word in the given document\"\"\"\n",
    "        doc = doc.lower()\n",
    "        words = [w.translate(punctuation_map) for w in doc.split(\" \") if w not in self.stopwords]\n",
    "        word_vecs = []\n",
    "        for word in words:\n",
    "            try:\n",
    "                vec = self.w2v_model[word]\n",
    "                word_vecs.append(vec)\n",
    "            except KeyError:\n",
    "                # Ignore if the word doesn't exist in the vocabulary\n",
    "                pass\n",
    "\n",
    "        # Assuming that document vector is the mean of all the word vectors\n",
    "        vector = np.mean(word_vecs, axis=0)\n",
    "        return vector\n",
    "\n",
    "\n",
    "    def _cosine_sim(self, vecA, vecB):\n",
    "        \"\"\"Find the cosine similarity distance between two vectors.\"\"\"\n",
    "        csim = np.dot(vecA, vecB) / (np.linalg.norm(vecA) * np.linalg.norm(vecB))\n",
    "        if np.isnan(np.sum(csim)):\n",
    "            return 0\n",
    "        return csim\n",
    "\n",
    "    def calculate_similarity(self, source_doc, target_docs=[], threshold=0):\n",
    "        \"\"\"Calculates & returns similarity scores between given source document & all\n",
    "        the target documents.\"\"\"\n",
    "        if isinstance(target_docs, str):\n",
    "            target_docs = [target_docs]\n",
    "\n",
    "        source_vec = self.vectorize(source_doc)\n",
    "        results = []\n",
    "        for doc in target_docs:\n",
    "            target_vec = self.vectorize(doc)\n",
    "            sim_score = self._cosine_sim(source_vec, target_vec)\n",
    "            if sim_score > threshold:\n",
    "                results.append({\n",
    "                    'score' : sim_score,\n",
    "                    'doc' : doc\n",
    "                })\n",
    "            # Sort results by score in desc order\n",
    "            results.sort(key=lambda k : k['score'] , reverse=True)\n",
    "\n",
    "        return results"
   ]
  },
  {
   "cell_type": "markdown",
   "metadata": {},
   "source": [
    "#### Calculating cosine similarity between esco skills and course content"
   ]
  },
  {
   "cell_type": "markdown",
   "metadata": {},
   "source": [
    "We can then apply it to any two strings as mentionned above, to verify what the algorithm yields we test it on an example from our data:"
   ]
  },
  {
   "cell_type": "code",
   "execution_count": 30,
   "metadata": {},
   "outputs": [
    {
     "name": "stdout",
     "output_type": "stream",
     "text": [
      "[{'score': 0.600234, 'doc': 'Identify oppression in societies, economies, cultures, and groups, acting as a professional in an non-oppressive way, enabling service users to take action to improve their lives and enabling citizens to change their environment in accordance with their own interests.'}, {'score': 0.44881448, 'doc': 'Assign and manage staff tasks in areas such as scoring, arranging, copying music and vocal coaching.'}, {'score': 0.35091925, 'doc': \"Supervise the operations of a correctional facility or other correctional procedures, ensuring that they are compliant with legal regulations, and ensure that the staff complies with regulations, and aim to improve the facility's efficiency and safety.\"}]\n"
     ]
    }
   ],
   "source": [
    "ds = DocSim(wv_from_bin)\n",
    "\n",
    "source_doc = data['Course_content'][0]\n",
    "target_docs = [skills_list[0],skills_list[1],skills_list[2]]\n",
    "\n",
    "# This will return 3 target docs with similarity score\n",
    "sim_scores = ds.calculate_similarity(source_doc, target_docs)\n",
    "print(sim_scores)\n"
   ]
  },
  {
   "cell_type": "markdown",
   "metadata": {},
   "source": [
    "Notice here that we haven't assigned a threshold so any score is considered. "
   ]
  },
  {
   "cell_type": "markdown",
   "metadata": {},
   "source": [
    "#### Applying the algo to our data"
   ]
  },
  {
   "cell_type": "markdown",
   "metadata": {},
   "source": [
    "We start by passing all the skill descriptions in ESCO to a list and initializing a void list that will be filled by the matching between each course description and every skill description that passes the threshold of 0.78 in the same fashion as the example above."
   ]
  },
  {
   "cell_type": "code",
   "execution_count": 195,
   "metadata": {},
   "outputs": [
    {
     "name": "stdout",
     "output_type": "stream",
     "text": [
      "11550.786283254623\n"
     ]
    }
   ],
   "source": [
    "skills_list = skills_full['description'].tolist()\n",
    "ep_skills = []\n",
    "import time\n",
    "\n",
    "start = time.time()\n",
    "for i in range(0,len(data)):\n",
    "    ep_skills.append(ds.calculate_similarity(data['Extended'][i],skills_list,threshold = 0.78))\n",
    "end = time.time()\n",
    "print(end-start)"
   ]
  },
  {
   "cell_type": "code",
   "execution_count": null,
   "metadata": {},
   "outputs": [],
   "source": [
    "start = time.time()\n",
    "end = time.time()\n",
    "print(end-start)"
   ]
  },
  {
   "cell_type": "markdown",
   "metadata": {},
   "source": [
    "### Creating a dataframe for our results "
   ]
  },
  {
   "cell_type": "markdown",
   "metadata": {},
   "source": [
    "Now that all the matches have been made, we create a void dataframe to be filled by a row for every unique association between a course descrition and a skill description. We also complement this link with info retrieved from the two original datasets to complement our graph"
   ]
  },
  {
   "cell_type": "code",
   "execution_count": 196,
   "metadata": {},
   "outputs": [],
   "source": [
    "test = pd.DataFrame(columns=['Country','University','Program','Courses','Syllabus','Description of the program','skill','skill_description','skill_uri_esco'])\n",
    "l = 0\n",
    "for j in range(0,len(ep_skills)):\n",
    "    for i in range(0,len(ep_skills[j])):\n",
    "        temp1 = skills_full[skills_full['description'] == (ep_skills[j][i]['doc'])].preferredLabel.item()\n",
    "        temp2 = skills_full[skills_full['preferredLabel'] == (temp1)].description.item()\n",
    "        temp3 = skills_full[skills_full['preferredLabel'] == (temp1)].conceptUri.item()\n",
    "        test.loc[l,['Country','University','Program','Courses','Syllabus']] = data.loc[j,['Country','University','Program','Courses','Extended']]\n",
    "        test.loc[l,['Description of the program']] = np.nan\n",
    "        test.loc[l,['skill']] = temp1\n",
    "        test.loc[l,['skill_description']] = temp2\n",
    "        test.loc[l,['skill_uri_esco']] = temp3\n",
    "        l += 1"
   ]
  },
  {
   "cell_type": "markdown",
   "metadata": {},
   "source": [
    "#### End result "
   ]
  },
  {
   "cell_type": "code",
   "execution_count": 202,
   "metadata": {},
   "outputs": [
    {
     "data": {
      "text/html": [
       "<div>\n",
       "<style scoped>\n",
       "    .dataframe tbody tr th:only-of-type {\n",
       "        vertical-align: middle;\n",
       "    }\n",
       "\n",
       "    .dataframe tbody tr th {\n",
       "        vertical-align: top;\n",
       "    }\n",
       "\n",
       "    .dataframe thead th {\n",
       "        text-align: right;\n",
       "    }\n",
       "</style>\n",
       "<table border=\"1\" class=\"dataframe\">\n",
       "  <thead>\n",
       "    <tr style=\"text-align: right;\">\n",
       "      <th></th>\n",
       "      <th>Country</th>\n",
       "      <th>University</th>\n",
       "      <th>Program</th>\n",
       "      <th>Courses</th>\n",
       "      <th>Syllabus</th>\n",
       "      <th>Description of the program</th>\n",
       "      <th>skill</th>\n",
       "      <th>skill_description</th>\n",
       "      <th>skill_uri_esco</th>\n",
       "    </tr>\n",
       "  </thead>\n",
       "  <tbody>\n",
       "    <tr>\n",
       "      <th>32751</th>\n",
       "      <td>Belgium</td>\n",
       "      <td>University of Antwerp</td>\n",
       "      <td>Master of Maritime and Air Transport Management</td>\n",
       "      <td>Transport Modelling</td>\n",
       "      <td>4 step models  Aggregate-Disaggregate-Aggregat...</td>\n",
       "      <td>NaN</td>\n",
       "      <td>develop energy saving concepts</td>\n",
       "      <td>Use current research results and collaborate w...</td>\n",
       "      <td>http://data.europa.eu/esco/skill/0037c821-2898...</td>\n",
       "    </tr>\n",
       "    <tr>\n",
       "      <th>32752</th>\n",
       "      <td>Belgium</td>\n",
       "      <td>University of Antwerp</td>\n",
       "      <td>Master of Maritime and Air Transport Management</td>\n",
       "      <td>Welfare Economics</td>\n",
       "      <td>The course is devided into six parts: 1. Intro...</td>\n",
       "      <td>NaN</td>\n",
       "      <td>socio-economic trends in your sector</td>\n",
       "      <td>Situation and evolution of a sector from a soc...</td>\n",
       "      <td>http://data.europa.eu/esco/skill/463023d0-cc10...</td>\n",
       "    </tr>\n",
       "    <tr>\n",
       "      <th>32753</th>\n",
       "      <td>Belgium</td>\n",
       "      <td>University of Antwerp</td>\n",
       "      <td>Master of Maritime and Air Transport Management</td>\n",
       "      <td>Welfare Economics</td>\n",
       "      <td>The course is devided into six parts: 1. Intro...</td>\n",
       "      <td>NaN</td>\n",
       "      <td>keep up with current trends in psychotherapy</td>\n",
       "      <td>Keep up with current trends and debates in men...</td>\n",
       "      <td>http://data.europa.eu/esco/skill/dc4b2c95-d807...</td>\n",
       "    </tr>\n",
       "    <tr>\n",
       "      <th>32754</th>\n",
       "      <td>Belgium</td>\n",
       "      <td>University of Antwerp</td>\n",
       "      <td>Master of Maritime and Air Transport Management</td>\n",
       "      <td>Welfare Economics</td>\n",
       "      <td>The course is devided into six parts: 1. Intro...</td>\n",
       "      <td>NaN</td>\n",
       "      <td>carry out social work research</td>\n",
       "      <td>Initiate and design research to assess social ...</td>\n",
       "      <td>http://data.europa.eu/esco/skill/ceeb2e10-f354...</td>\n",
       "    </tr>\n",
       "    <tr>\n",
       "      <th>32755</th>\n",
       "      <td>Belgium</td>\n",
       "      <td>University of Antwerp</td>\n",
       "      <td>Master of Maritime and Air Transport Management</td>\n",
       "      <td>Project Methodology</td>\n",
       "      <td>- Project Management environment - Project Man...</td>\n",
       "      <td>NaN</td>\n",
       "      <td>collaborate with a technical staff in artistic...</td>\n",
       "      <td>Coordinate your artistic activities with other...</td>\n",
       "      <td>http://data.europa.eu/esco/skill/94d02529-72e1...</td>\n",
       "    </tr>\n",
       "  </tbody>\n",
       "</table>\n",
       "</div>"
      ],
      "text/plain": [
       "       Country             University  \\\n",
       "32751  Belgium  University of Antwerp   \n",
       "32752  Belgium  University of Antwerp   \n",
       "32753  Belgium  University of Antwerp   \n",
       "32754  Belgium  University of Antwerp   \n",
       "32755  Belgium  University of Antwerp   \n",
       "\n",
       "                                               Program              Courses  \\\n",
       "32751  Master of Maritime and Air Transport Management  Transport Modelling   \n",
       "32752  Master of Maritime and Air Transport Management    Welfare Economics   \n",
       "32753  Master of Maritime and Air Transport Management    Welfare Economics   \n",
       "32754  Master of Maritime and Air Transport Management    Welfare Economics   \n",
       "32755  Master of Maritime and Air Transport Management  Project Methodology   \n",
       "\n",
       "                                                Syllabus  \\\n",
       "32751  4 step models  Aggregate-Disaggregate-Aggregat...   \n",
       "32752  The course is devided into six parts: 1. Intro...   \n",
       "32753  The course is devided into six parts: 1. Intro...   \n",
       "32754  The course is devided into six parts: 1. Intro...   \n",
       "32755  - Project Management environment - Project Man...   \n",
       "\n",
       "      Description of the program  \\\n",
       "32751                        NaN   \n",
       "32752                        NaN   \n",
       "32753                        NaN   \n",
       "32754                        NaN   \n",
       "32755                        NaN   \n",
       "\n",
       "                                                   skill  \\\n",
       "32751                     develop energy saving concepts   \n",
       "32752               socio-economic trends in your sector   \n",
       "32753       keep up with current trends in psychotherapy   \n",
       "32754                     carry out social work research   \n",
       "32755  collaborate with a technical staff in artistic...   \n",
       "\n",
       "                                       skill_description  \\\n",
       "32751  Use current research results and collaborate w...   \n",
       "32752  Situation and evolution of a sector from a soc...   \n",
       "32753  Keep up with current trends and debates in men...   \n",
       "32754  Initiate and design research to assess social ...   \n",
       "32755  Coordinate your artistic activities with other...   \n",
       "\n",
       "                                          skill_uri_esco  \n",
       "32751  http://data.europa.eu/esco/skill/0037c821-2898...  \n",
       "32752  http://data.europa.eu/esco/skill/463023d0-cc10...  \n",
       "32753  http://data.europa.eu/esco/skill/dc4b2c95-d807...  \n",
       "32754  http://data.europa.eu/esco/skill/ceeb2e10-f354...  \n",
       "32755  http://data.europa.eu/esco/skill/94d02529-72e1...  "
      ]
     },
     "execution_count": 202,
     "metadata": {},
     "output_type": "execute_result"
    }
   ],
   "source": [
    "test.tail()"
   ]
  },
  {
   "cell_type": "code",
   "execution_count": 92,
   "metadata": {},
   "outputs": [
    {
     "data": {
      "text/html": [
       "<div>\n",
       "<style scoped>\n",
       "    .dataframe tbody tr th:only-of-type {\n",
       "        vertical-align: middle;\n",
       "    }\n",
       "\n",
       "    .dataframe tbody tr th {\n",
       "        vertical-align: top;\n",
       "    }\n",
       "\n",
       "    .dataframe thead th {\n",
       "        text-align: right;\n",
       "    }\n",
       "</style>\n",
       "<table border=\"1\" class=\"dataframe\">\n",
       "  <thead>\n",
       "    <tr style=\"text-align: right;\">\n",
       "      <th></th>\n",
       "      <th>Country</th>\n",
       "      <th>University</th>\n",
       "      <th>Program</th>\n",
       "      <th>Courses</th>\n",
       "      <th>Syllabus</th>\n",
       "      <th>Description of the program</th>\n",
       "      <th>skill</th>\n",
       "      <th>skill_description</th>\n",
       "      <th>skill_uri_esco</th>\n",
       "    </tr>\n",
       "  </thead>\n",
       "  <tbody>\n",
       "    <tr>\n",
       "      <th>0</th>\n",
       "      <td>Belgium</td>\n",
       "      <td>VUB</td>\n",
       "      <td>Master of Philosophy and Moral Sciences: Ethic...</td>\n",
       "      <td>Introduction to feminist thought</td>\n",
       "      <td>This course unit aims to give students a criti...</td>\n",
       "      <td>NaN</td>\n",
       "      <td>gender studies</td>\n",
       "      <td>Interdisciplinary academic field which studies...</td>\n",
       "      <td>http://data.europa.eu/esco/skill/e24377fb-020b...</td>\n",
       "    </tr>\n",
       "    <tr>\n",
       "      <th>1</th>\n",
       "      <td>Belgium</td>\n",
       "      <td>VUB</td>\n",
       "      <td>Master of Philosophy and Moral Sciences: Ethic...</td>\n",
       "      <td>Introduction to feminist thought</td>\n",
       "      <td>This course unit aims to give students a criti...</td>\n",
       "      <td>NaN</td>\n",
       "      <td>teach sociology</td>\n",
       "      <td>Instruct students in the theory and practice o...</td>\n",
       "      <td>http://data.europa.eu/esco/skill/a222fb51-a43f...</td>\n",
       "    </tr>\n",
       "    <tr>\n",
       "      <th>2</th>\n",
       "      <td>Belgium</td>\n",
       "      <td>VUB</td>\n",
       "      <td>Master of Philosophy and Moral Sciences: Philo...</td>\n",
       "      <td>Introduction to feminist thought</td>\n",
       "      <td>This course unit aims to give students a criti...</td>\n",
       "      <td>NaN</td>\n",
       "      <td>gender studies</td>\n",
       "      <td>Interdisciplinary academic field which studies...</td>\n",
       "      <td>http://data.europa.eu/esco/skill/e24377fb-020b...</td>\n",
       "    </tr>\n",
       "    <tr>\n",
       "      <th>3</th>\n",
       "      <td>Belgium</td>\n",
       "      <td>VUB</td>\n",
       "      <td>Master of Philosophy and Moral Sciences: Philo...</td>\n",
       "      <td>Introduction to feminist thought</td>\n",
       "      <td>This course unit aims to give students a criti...</td>\n",
       "      <td>NaN</td>\n",
       "      <td>teach sociology</td>\n",
       "      <td>Instruct students in the theory and practice o...</td>\n",
       "      <td>http://data.europa.eu/esco/skill/a222fb51-a43f...</td>\n",
       "    </tr>\n",
       "    <tr>\n",
       "      <th>4</th>\n",
       "      <td>Belgium</td>\n",
       "      <td>VUB</td>\n",
       "      <td>Research Master of Philosophy: Standaard traject</td>\n",
       "      <td>Introduction to feminist thought</td>\n",
       "      <td>This course unit aims to give students a criti...</td>\n",
       "      <td>NaN</td>\n",
       "      <td>gender studies</td>\n",
       "      <td>Interdisciplinary academic field which studies...</td>\n",
       "      <td>http://data.europa.eu/esco/skill/e24377fb-020b...</td>\n",
       "    </tr>\n",
       "  </tbody>\n",
       "</table>\n",
       "</div>"
      ],
      "text/plain": [
       "   Country University                                            Program  \\\n",
       "0  Belgium        VUB  Master of Philosophy and Moral Sciences: Ethic...   \n",
       "1  Belgium        VUB  Master of Philosophy and Moral Sciences: Ethic...   \n",
       "2  Belgium        VUB  Master of Philosophy and Moral Sciences: Philo...   \n",
       "3  Belgium        VUB  Master of Philosophy and Moral Sciences: Philo...   \n",
       "4  Belgium        VUB   Research Master of Philosophy: Standaard traject   \n",
       "\n",
       "                            Courses  \\\n",
       "0  Introduction to feminist thought   \n",
       "1  Introduction to feminist thought   \n",
       "2  Introduction to feminist thought   \n",
       "3  Introduction to feminist thought   \n",
       "4  Introduction to feminist thought   \n",
       "\n",
       "                                            Syllabus  \\\n",
       "0  This course unit aims to give students a criti...   \n",
       "1  This course unit aims to give students a criti...   \n",
       "2  This course unit aims to give students a criti...   \n",
       "3  This course unit aims to give students a criti...   \n",
       "4  This course unit aims to give students a criti...   \n",
       "\n",
       "  Description of the program            skill  \\\n",
       "0                        NaN   gender studies   \n",
       "1                        NaN  teach sociology   \n",
       "2                        NaN   gender studies   \n",
       "3                        NaN  teach sociology   \n",
       "4                        NaN   gender studies   \n",
       "\n",
       "                                   skill_description  \\\n",
       "0  Interdisciplinary academic field which studies...   \n",
       "1  Instruct students in the theory and practice o...   \n",
       "2  Interdisciplinary academic field which studies...   \n",
       "3  Instruct students in the theory and practice o...   \n",
       "4  Interdisciplinary academic field which studies...   \n",
       "\n",
       "                                      skill_uri_esco  \n",
       "0  http://data.europa.eu/esco/skill/e24377fb-020b...  \n",
       "1  http://data.europa.eu/esco/skill/a222fb51-a43f...  \n",
       "2  http://data.europa.eu/esco/skill/e24377fb-020b...  \n",
       "3  http://data.europa.eu/esco/skill/a222fb51-a43f...  \n",
       "4  http://data.europa.eu/esco/skill/e24377fb-020b...  "
      ]
     },
     "execution_count": 92,
     "metadata": {},
     "output_type": "execute_result"
    }
   ],
   "source": [
    "test.head()"
   ]
  },
  {
   "cell_type": "markdown",
   "metadata": {},
   "source": [
    "#### Writing to CSV  "
   ]
  },
  {
   "cell_type": "code",
   "execution_count": 203,
   "metadata": {},
   "outputs": [],
   "source": [
    "test.to_csv('UAntwerpen_skills.csv')"
   ]
  },
  {
   "cell_type": "markdown",
   "metadata": {},
   "source": [
    "#### Additional cleaning"
   ]
  },
  {
   "cell_type": "markdown",
   "metadata": {},
   "source": [
    "Some encoding problems can be hard to spot, here is a code to fix that issue in case it is found in some of the data."
   ]
  },
  {
   "cell_type": "code",
   "execution_count": 219,
   "metadata": {},
   "outputs": [],
   "source": [
    "ulie = pd.read_csv('University Skills/UCL_skills.csv', index_col = 0)"
   ]
  },
  {
   "cell_type": "code",
   "execution_count": 220,
   "metadata": {},
   "outputs": [],
   "source": [
    "import unidecode\n",
    "ulie['Program'] = ulie['Program'].astype(str)\n",
    "\n",
    "for i in range(0,len(ulie)):\n",
    "    temp1 = ulie.loc[i,'Program']\n",
    "    temp2 = unidecode.unidecode(str(temp1))\n",
    "    ulie.loc[i,'Program'] = temp2\n",
    "    "
   ]
  },
  {
   "cell_type": "code",
   "execution_count": 221,
   "metadata": {},
   "outputs": [
    {
     "data": {
      "text/html": [
       "<div>\n",
       "<style scoped>\n",
       "    .dataframe tbody tr th:only-of-type {\n",
       "        vertical-align: middle;\n",
       "    }\n",
       "\n",
       "    .dataframe tbody tr th {\n",
       "        vertical-align: top;\n",
       "    }\n",
       "\n",
       "    .dataframe thead th {\n",
       "        text-align: right;\n",
       "    }\n",
       "</style>\n",
       "<table border=\"1\" class=\"dataframe\">\n",
       "  <thead>\n",
       "    <tr style=\"text-align: right;\">\n",
       "      <th></th>\n",
       "      <th>Country</th>\n",
       "      <th>University</th>\n",
       "      <th>Program</th>\n",
       "      <th>Courses</th>\n",
       "      <th>Syllabus</th>\n",
       "      <th>Description of the program</th>\n",
       "      <th>skill</th>\n",
       "      <th>skill_description</th>\n",
       "      <th>skill_uri_esco</th>\n",
       "    </tr>\n",
       "  </thead>\n",
       "  <tbody>\n",
       "    <tr>\n",
       "      <th>0</th>\n",
       "      <td>Belgium</td>\n",
       "      <td>UCL</td>\n",
       "      <td>Master [120] in European Studies</td>\n",
       "      <td>European Competition Law</td>\n",
       "      <td>·         Introduction. Why do we protect comp...</td>\n",
       "      <td>NaN</td>\n",
       "      <td>ensure compliance with gaming laws</td>\n",
       "      <td>Ensure full compliance within the requirements...</td>\n",
       "      <td>http://data.europa.eu/esco/skill/c9b40bd1-39e2...</td>\n",
       "    </tr>\n",
       "    <tr>\n",
       "      <th>1</th>\n",
       "      <td>Belgium</td>\n",
       "      <td>UCL</td>\n",
       "      <td>Master [120] in European Studies</td>\n",
       "      <td>European Competition Law</td>\n",
       "      <td>·         Introduction. Why do we protect comp...</td>\n",
       "      <td>NaN</td>\n",
       "      <td>common aviation safety regulations</td>\n",
       "      <td>The body of legislation and regulations that a...</td>\n",
       "      <td>http://data.europa.eu/esco/skill/d5b63f98-28ce...</td>\n",
       "    </tr>\n",
       "    <tr>\n",
       "      <th>2</th>\n",
       "      <td>Belgium</td>\n",
       "      <td>UCL</td>\n",
       "      <td>Master [120] in Law</td>\n",
       "      <td>European Competition Law</td>\n",
       "      <td>·         Introduction. Why do we protect comp...</td>\n",
       "      <td>NaN</td>\n",
       "      <td>ensure compliance with gaming laws</td>\n",
       "      <td>Ensure full compliance within the requirements...</td>\n",
       "      <td>http://data.europa.eu/esco/skill/c9b40bd1-39e2...</td>\n",
       "    </tr>\n",
       "    <tr>\n",
       "      <th>3</th>\n",
       "      <td>Belgium</td>\n",
       "      <td>UCL</td>\n",
       "      <td>Master [120] in Law</td>\n",
       "      <td>European Competition Law</td>\n",
       "      <td>·         Introduction. Why do we protect comp...</td>\n",
       "      <td>NaN</td>\n",
       "      <td>common aviation safety regulations</td>\n",
       "      <td>The body of legislation and regulations that a...</td>\n",
       "      <td>http://data.europa.eu/esco/skill/d5b63f98-28ce...</td>\n",
       "    </tr>\n",
       "    <tr>\n",
       "      <th>4</th>\n",
       "      <td>Belgium</td>\n",
       "      <td>UCL</td>\n",
       "      <td>Specialised master in European law</td>\n",
       "      <td>European Competition Law</td>\n",
       "      <td>·         Introduction. Why do we protect comp...</td>\n",
       "      <td>NaN</td>\n",
       "      <td>ensure compliance with gaming laws</td>\n",
       "      <td>Ensure full compliance within the requirements...</td>\n",
       "      <td>http://data.europa.eu/esco/skill/c9b40bd1-39e2...</td>\n",
       "    </tr>\n",
       "  </tbody>\n",
       "</table>\n",
       "</div>"
      ],
      "text/plain": [
       "   Country University                             Program  \\\n",
       "0  Belgium        UCL    Master [120] in European Studies   \n",
       "1  Belgium        UCL    Master [120] in European Studies   \n",
       "2  Belgium        UCL                 Master [120] in Law   \n",
       "3  Belgium        UCL                 Master [120] in Law   \n",
       "4  Belgium        UCL  Specialised master in European law   \n",
       "\n",
       "                    Courses  \\\n",
       "0  European Competition Law   \n",
       "1  European Competition Law   \n",
       "2  European Competition Law   \n",
       "3  European Competition Law   \n",
       "4  European Competition Law   \n",
       "\n",
       "                                            Syllabus  \\\n",
       "0  ·         Introduction. Why do we protect comp...   \n",
       "1  ·         Introduction. Why do we protect comp...   \n",
       "2  ·         Introduction. Why do we protect comp...   \n",
       "3  ·         Introduction. Why do we protect comp...   \n",
       "4  ·         Introduction. Why do we protect comp...   \n",
       "\n",
       "   Description of the program                               skill  \\\n",
       "0                         NaN  ensure compliance with gaming laws   \n",
       "1                         NaN  common aviation safety regulations   \n",
       "2                         NaN  ensure compliance with gaming laws   \n",
       "3                         NaN  common aviation safety regulations   \n",
       "4                         NaN  ensure compliance with gaming laws   \n",
       "\n",
       "                                   skill_description  \\\n",
       "0  Ensure full compliance within the requirements...   \n",
       "1  The body of legislation and regulations that a...   \n",
       "2  Ensure full compliance within the requirements...   \n",
       "3  The body of legislation and regulations that a...   \n",
       "4  Ensure full compliance within the requirements...   \n",
       "\n",
       "                                      skill_uri_esco  \n",
       "0  http://data.europa.eu/esco/skill/c9b40bd1-39e2...  \n",
       "1  http://data.europa.eu/esco/skill/d5b63f98-28ce...  \n",
       "2  http://data.europa.eu/esco/skill/c9b40bd1-39e2...  \n",
       "3  http://data.europa.eu/esco/skill/d5b63f98-28ce...  \n",
       "4  http://data.europa.eu/esco/skill/c9b40bd1-39e2...  "
      ]
     },
     "execution_count": 221,
     "metadata": {},
     "output_type": "execute_result"
    }
   ],
   "source": [
    "ulie.head()"
   ]
  },
  {
   "cell_type": "code",
   "execution_count": null,
   "metadata": {},
   "outputs": [],
   "source": [
    "ulie.to_csv"
   ]
  },
  {
   "cell_type": "markdown",
   "metadata": {},
   "source": [
    "# 1.4 NLP automatic matching v.2.0.0 "
   ]
  },
  {
   "cell_type": "markdown",
   "metadata": {},
   "source": [
    "#### This is a much improved version of the automatic NLP matching, each text is only vectorized once here and is made extremely simple for the user. All you need to do is specify which dataframes you want to match, what the names of the columns containing the text which is to be matches and the minimum cosine similarity to consider a Match to be recorded. "
   ]
  },
  {
   "cell_type": "code",
   "execution_count": 12,
   "metadata": {},
   "outputs": [
    {
     "name": "stdout",
     "output_type": "stream",
     "text": [
      "2057.8831470012665\n"
     ]
    }
   ],
   "source": [
    "punctuation_map = dict((ord(char), None) for char in string.punctuation)\n",
    "class DocSimV2(object):\n",
    "    def __init__(self, w2v_model , stopwords=stopW , remove_punctuation_map=punctuation_map):\n",
    "        self.w2v_model = w2v_model\n",
    "        self.stopwords = stopwords\n",
    "        self.remove_punctuation_map = punctuation_map\n",
    "\n",
    "    def vectorizer(self, doc):\n",
    "        \"\"\"Identify the vector values for each word in the given document\"\"\"\n",
    "        doc = doc.lower()\n",
    "        words = [w.translate(punctuation_map) for w in doc.split(\" \") if w not in stopW]\n",
    "        word_vecs = []\n",
    "        for word in words:\n",
    "            try:\n",
    "                vec = wv_from_bin[word]\n",
    "                word_vecs.append(vec)\n",
    "            except KeyError:\n",
    "                # Ignore if the word doesn't exist in the vocabulary\n",
    "                pass\n",
    "\n",
    "        # Assuming that document vector is the mean of all the word vectors\n",
    "        vector = np.mean(word_vecs, axis=0)\n",
    "        return vector\n",
    "\n",
    "\n",
    "    def _cosine_sim(self, vecA, vecB):\n",
    "        \"\"\"Find the cosine similarity distance between two vectors.\"\"\"\n",
    "        csim = np.dot(vecA, vecB) / (np.linalg.norm(vecA) * np.linalg.norm(vecB))\n",
    "        if np.isnan(np.sum(csim)):\n",
    "            return 0\n",
    "        return csim\n",
    "        \n",
    "    def calculate_similarity(self, datasetA, text_datasetA, datasetB, text_datasetB, threshold=0):\n",
    "        \"\"\"Calculates & returns similarity scores between given source document & all\n",
    "        the target documents.\"\"\"\n",
    "        datasetA.reset_index(inplace = True,drop = True)\n",
    "        datasetB.reset_index(inplace = True,drop = True)\n",
    "        datasetA[\"vectors\"] = datasetA[str(text_datasetA)].apply(self.vectorizer)\n",
    "        datasetB[\"vectors\"] = datasetB[str(text_datasetB)].apply(self.vectorizer)\n",
    "        \n",
    "        \n",
    "        #colsA = list(datasetA.columns.values)\n",
    "        #colsB = list(datasetB.columns.values)\n",
    "        #cols = [colsA,colsB]\n",
    "        #flat_cols = [item for sublist in cols for item in sublist]\n",
    "        #flat_cols.append(\"similarity\")\n",
    "        #result = pd.DataFrame(columns = flat_cols)\n",
    "        #l = 0\n",
    "        ind_A = []\n",
    "        ind_B = []\n",
    "\n",
    "        for i in range(0,len(datasetA)):\n",
    "            vecA = datasetA.loc[i,\"vectors\"]\n",
    "            for j in range(0,len(datasetB)):\n",
    "                vecB = datasetB.loc[j,\"vectors\"]\n",
    "                sim_score = self._cosine_sim(vecA,vecB)\n",
    "                \n",
    "                if sim_score > threshold:\n",
    "                    ind_A.append(i)\n",
    "                    ind_B.append(j)\n",
    "                    \n",
    "        matchesA = datasetA.loc[ind_A,:].drop(datasetA.columns[[0,1]],axis = 1)\n",
    "        #matchesA = matchesA.set_index(pd.Index(range(0,len(matchesA))))#.drop(['level_0','index'], axis=1, inplace=True)#.reset_index(inplace = True, drop = True)\n",
    "        matchesB = datasetB.loc[ind_B,:].drop(datasetB.columns[[0,1]],axis = 1)#.reset_index(inplace = True, drop = True)\n",
    "        full_data = pd.concat([matchesA.reset_index(drop = True),matchesB.reset_index(drop = True)], axis=1)            \n",
    "                    #result.loc[l,\"similarity\"] = sim_score\n",
    "                    #result.loc[l,colsA] = datasetA.loc[i,colsB]\n",
    "                    #result.loc[l,colsB] = datasetB.loc[j,colsB]\n",
    "                    #l += 1\n",
    "                     \n",
    "                    \n",
    "        return full_data"
   ]
  },
  {
   "cell_type": "code",
   "execution_count": null,
   "metadata": {},
   "outputs": [],
   "source": [
    "start = time.time()\n",
    "ds = DocSimV2(wv_from_bin)\n",
    "results = ds.calculate_similarity(datasetA = malta,\n",
    "                                  text_datasetA = \"Clean_strings\",\n",
    "                                  datasetB = skills,\n",
    "                                  text_datasetB = \"Clean_strings\",\n",
    "                                  threshold = 0.78)\n",
    "end = time.time()\n",
    "print(end-start)"
   ]
  },
  {
   "cell_type": "code",
   "execution_count": 16,
   "metadata": {},
   "outputs": [],
   "source": [
    "results.to_csv('University Skills/UMalta_skills.csv', encoding = 'utf-8')"
   ]
  },
  {
   "cell_type": "markdown",
   "metadata": {},
   "source": [
    "# 1.5 NLP automatic matching v.3.0.0 "
   ]
  },
  {
   "cell_type": "markdown",
   "metadata": {},
   "source": [
    "Below is the last version of our string matching program which provides a complete walkthrough. The onyl input needed from the user is the directory to the data he wishes to match and a trained word2vec model."
   ]
  },
  {
   "cell_type": "code",
   "execution_count": 23,
   "metadata": {},
   "outputs": [],
   "source": [
    "# Load Word2Vec model:\n",
    "#wv_from_bin = KeyedVectors.load_word2vec_format(r'C:\\Users\\laksa\\Documents\\DEAP\\NLP AI\\GoogleNews-vectors-negative300.bin', binary = True)\n",
    "\n",
    "lemmatizer = WordNetLemmatizer()    \n",
    "    \n",
    "#Pre-processing:\n",
    "punctuation_map = dict((ord(char), None) for char in string.punctuation)\n",
    "#stop_words = set(stopwords.words(\"english\"))\n",
    "#stopW = []\n",
    "#for element in stop_words:\n",
    "#    stopW.append(element)\n",
    "stopW = stopwords.words('english')\n",
    "stopW += [\"msc\",\"also\",'teaching','class','student',\"classroom\",\"teach\",'learn']\n",
    "special_characters = [\",\",\"?\",\".\",\";\",\"/\",\":\",\"+\",\"=\",\"~\",\"%\",\"´\",\n",
    "                      \"`\",\"¨\",\"^\",\"*\",\"$\",'&',\"|\",\"@\",'\"',\"£\",\n",
    "                      \"'\",\"(\",\")\",\"§\",\"!\",\"{\",\"}\",\"-\",\"_\",\"²\",\"[\",\n",
    "                      \">\",\"<\",\"]\"]\n",
    "\n",
    "class DocSimV3(object):\n",
    "    \n",
    "    def __init__(self, w2v_model , stopwords=stopW , remove_punctuation_map=punctuation_map):\n",
    "        self.w2v_model = w2v_model\n",
    "        self.stopwords = stopwords\n",
    "        self.remove_punctuation_map = punctuation_map\n",
    "    \n",
    "    def read_clean_data(self,path_A,path_B):\n",
    "        \"\"\"Cleaning, wrangling automated on the two datasets you consider for matching\"\"\"\n",
    "\n",
    "        for path in [path_A,path_B]:\n",
    "            \n",
    "            if path == path_A:\n",
    "                print(\"These are the columns of the first dataset you want to match:\")\n",
    "            else:\n",
    "                print(\"These are the columns of the second dataset you want to match:\")\n",
    "            print(\"\\n\")\n",
    "            \n",
    "            data = pd.read_csv(str(path), encoding = \"ISO-8859-1\")\n",
    "            data.reset_index(drop = True, inplace = True)\n",
    "            \n",
    "            #######################\n",
    "            #for testing purposes:\n",
    "            data = data.sample(3) \n",
    "            #######################\n",
    "            \n",
    "            print('\\n')\n",
    "            for name in data.columns:\n",
    "                print(name)\n",
    "            print('\\n')\n",
    "                \n",
    "            column_name = []\n",
    "            other_columns = []\n",
    "                \n",
    "            colA = input(\"What's the name of the column that contains the strings you'd like to use for matching?\")\n",
    "            while colA not in list(data.columns):\n",
    "                print(\"This columns doesn't exist in your data, try another one from the list printed above!\")\n",
    "                print('\\n')\n",
    "                colA = input(\"What's the name of the column that contains the strings you'd like to use for matching?\")\n",
    "\n",
    "            column_name.append(str(colA))\n",
    "                \n",
    "            while colA != \"stop\":\n",
    "                colA = input('Are there other columns that should be used for the matching? If not type \"stop\"!')\n",
    "                print('\\n')\n",
    "            \n",
    "                if colA != 'stop' and colA in list(data.columns):\n",
    "                    other_columns.append(str(colA))\n",
    "                    print(\"You've already selected the following:\")\n",
    "                    print('\\n')\n",
    "                    print(column_name[0])\n",
    "                    for name in other_columns:\n",
    "                        print(name)\n",
    "                    print('\\n')\n",
    "            \n",
    "                elif colA == 'stop':\n",
    "                    print('Moving on!')\n",
    "                    print('\\n')\n",
    "                    break\n",
    "\n",
    "                elif colA not in list(data.columns):\n",
    "                    print(\"This columns doesn't exist in your data, try another one from the list printed above!\")\n",
    "                    print('\\n')\n",
    "                    continue\n",
    "                    \n",
    "            if other_columns != []:\n",
    "                data['Extended'] = data[column_name[0]]\n",
    "                for col in other_columns:\n",
    "                    data['Extended'] = data['Extended'] + data[str(col)].map(str)\n",
    "    \n",
    "    # Reads the data in the path you specified, drops na's and resets the index to avoid concatenation failures afterwards\n",
    "            data.dropna(subset=column_name,inplace = True)\n",
    "            data.reset_index(drop = True, inplace = True)\n",
    "            print(\"\\n\")\n",
    "            print(\"Please wait while we process your data!\")\n",
    "            print(\"\\n\")\n",
    "    \n",
    "    # Takes care of decoding all characters to avoid miss-steps in the datacleaning process!\n",
    "            for i in range(0,len(data)):\n",
    "                if other_columns:\n",
    "                    temp1 = data.loc[i,'Extended']\n",
    "                    temp2 = unidecode.unidecode(str(temp1))\n",
    "                    data.loc[i,\"Clean_strings\"] = temp2\n",
    "                else:\n",
    "                    temp1 = data.loc[i,column_name[0]]\n",
    "                    temp2 = unidecode.unidecode(str(temp1))\n",
    "                    data.loc[i,\"Clean_strings\"] = temp2\n",
    "            \n",
    "            if path == path_A:\n",
    "                dfA = data\n",
    "            else:\n",
    "                dfB = data\n",
    "            \n",
    "        return dfA,dfB\n",
    "                        \n",
    "    def vectorizer(self, doc):\n",
    "        \"\"\"Identify the vector values for each word in the given document\"\"\"\n",
    "        #stopW = stopwords\n",
    "        #doc = doc.lower()\n",
    "        #doc = re.sub(r'[^\\w\\s]','',doc)\n",
    "        #words_1 = [w for w in doc.split(\" \")]\n",
    "        #words_2 = [word for word in words_1 if word not in stopwords.words('english')]\n",
    "        doc = doc.lower()\n",
    "        words = [w.translate(punctuation_map) for w in doc.split(\" \") if w not in stopW]\n",
    "        words = [lemmatizer.lemmatize(lemmatizer.lemmatize(lemmatizer.lemmatize(w, pos = 'a'),pos = 'v'),pos='n') for w in words]\n",
    "    \n",
    "        word_vecs = []\n",
    "        for word in words:\n",
    "            try:\n",
    "                vec = wv_from_bin[word]\n",
    "                word_vecs.append(vec)\n",
    "            except KeyError:\n",
    "                # Ignore if the word doesn't exist in the vocabulary\n",
    "                pass\n",
    "\n",
    "        # Assuming that document vector is the mean of all the word vectors\n",
    "        vector = np.mean(word_vecs, axis=0)\n",
    "        return vector\n",
    "\n",
    "\n",
    "    def _cosine_sim(self, vecA, vecB):\n",
    "        \"\"\"Find the cosine similarity distance between two vectors.\"\"\"\n",
    "        csim = np.dot(vecA, vecB) / (np.linalg.norm(vecA) * np.linalg.norm(vecB))\n",
    "        if np.isnan(np.sum(csim)):\n",
    "            return 0\n",
    "        return csim\n",
    "    \n",
    "    def similarity_join(self,data):\n",
    "    \n",
    "        data.reset_index(inplace = True, drop = True)\n",
    "        \n",
    "        print(\"\\n\")\n",
    "        print(\"The data model we considered for our graph rendering in the shiny app is as follows:\",\"\\n\",\"\\n\",\n",
    "             \"University\",\"\\n\",\n",
    "             \"Program\",\"\\n\",\n",
    "             \"Course\",\"\\n\",\n",
    "             \"Skill\",\"\\n\",\"\\n\",\n",
    "             \"We highly recommend you select the columns in your dataset corresponding to those cited above if you want to visualize your matches in our Shinyapp.\",\"\\n\",\n",
    "             \"Although this is entirely your decision, you may keep the ones you see as fittest.\",\"\\n\",\n",
    "             \"If you do decide to follow our data model and wish to upload your data to our graph rendering, please specify which columns lin your data listed below correspond to the information listed above\",\"\\n\")\n",
    "        for name in data.columns:\n",
    "            print(name)\n",
    "        print('\\n')\n",
    "        \n",
    "        cols = []\n",
    "        col = input('Which columns would you like to keep?')\n",
    "        print('\\n')\n",
    "    \n",
    "        cols.append(col)\n",
    "    \n",
    "        while col != \"stop\":\n",
    "            col = input('Any more columns you want to keep? If not type \"stop\"!')\n",
    "            print('\\n')\n",
    "            \n",
    "            if col != 'stop' and col in list(data.columns):\n",
    "                cols.append(col)\n",
    "            \n",
    "            elif col == 'stop':\n",
    "                print('You stopped the process')\n",
    "                print('\\n')\n",
    "                data = data.loc[:,cols]\n",
    "                return(data)\n",
    "\n",
    "            elif col not in list(data.columns):\n",
    "                print(\"This columns doesn't exist in your data, try another one from the list printed above!\")\n",
    "                print('\\n')\n",
    "                continue\n",
    "                \n",
    "    def graph_format(self, data):\n",
    "        \n",
    "        print(\"\\n\")\n",
    "        start = input('Are you using our data model? If so type \"Yes\". If not, please type \"Goodbye\"')\n",
    "        print(\"\\n\")\n",
    "        if start == \"Goodbye\":\n",
    "            print(\"K bye :'(\")\n",
    "            return data\n",
    "        elif start == \"Yes\":\n",
    "            print(\"\\n\",\"\\n\")\n",
    "            print(\"University\",\"\\n\",\n",
    "                  \"Program\",\"\\n\",\n",
    "                  \"Course\",\"\\n\",\n",
    "                  \"Skills\")\n",
    "            print(\"\\n\",\"\\n\",\"Please specify which columns in your data listed below correspond to those in our data model listed above.\",\"\\n\",\"\\n\")\n",
    "            for var in list(data.columns):\n",
    "                print(var)\n",
    "\n",
    "            univ=input(\"The column in your data that corresponds to 'University':\")\n",
    "            prog=input(\"The column in your data that corresponds to 'Program':\")\n",
    "            crse=input(\"The column in your data that corresponds to 'Course':\")\n",
    "            skil=input(\"The column in your data that corresponds to 'Skills':\")\n",
    "            print(\"\\n\",\"\\n\")\n",
    "            \n",
    "            data.rename(\n",
    "                inplace = True,\n",
    "                columns = \n",
    "                            {\n",
    "                    str(univ):\"University\",\n",
    "                    str(prog):\"Program\",\n",
    "                    str(crse):\"Course\",\n",
    "                    str(skil):\"Skills\"\n",
    "                            }\n",
    "                           )\n",
    "                \n",
    "            return data\n",
    "        \n",
    "    def calculate_similarity(self, path_A, path_B, threshold=0):\n",
    "        \"\"\"Calculates & returns similarity scores between given source document & all\n",
    "        the target documents.\"\"\"\n",
    "        \n",
    "        datasetA, datasetB = self.read_clean_data(path_A, path_B)\n",
    "        print(\"\\n\")\n",
    "        print(\"We cleaned your data!\")\n",
    "        print(\"\\n\")\n",
    "        print(\"Please wait while we figure out the matches!\")\n",
    "        print(\"\\n\")\n",
    "        \n",
    "        #if datasetA[\"Clean_strings\"] and datasetB[\"Clean_strings\"]:\n",
    "            \n",
    "        datasetA.reset_index(inplace = True,drop = True)\n",
    "        datasetB.reset_index(inplace = True,drop = True)\n",
    "        datasetA[\"vectors\"] = datasetA[str(\"Clean_strings\")].apply(self.vectorizer)\n",
    "        datasetB[\"vectors\"] = datasetB[str(\"Clean_strings\")].apply(self.vectorizer)\n",
    "        \n",
    "        #else:\n",
    "        #    datasetA.reset_index(inplace = True,drop = True)\n",
    "        #    datasetB.reset_index(inplace = True,drop = True)\n",
    "        #    datasetA[\"vectors\"] = datasetA[str(text_datasetA)].apply(self.vectorizer)\n",
    "        #    datasetB[\"vectors\"] = datasetB[str(text_datasetB)].apply(self.vectorizer)\n",
    "        \n",
    "        #colsA = list(datasetA.columns.values)\n",
    "        #colsB = list(datasetB.columns.values)\n",
    "        #cols = [colsA,colsB]\n",
    "        #flat_cols = [item for sublist in cols for item in sublist]\n",
    "        #flat_cols.append(\"similarity\")\n",
    "        #result = pd.DataFrame(columns = flat_cols)\n",
    "        #l = 0\n",
    "        ind_A = []\n",
    "        ind_B = []\n",
    "        score_record = []\n",
    "\n",
    "        for i in range(0,len(datasetA)):\n",
    "            vecA = datasetA.loc[i,\"vectors\"]\n",
    "            for j in range(0,len(datasetB)):\n",
    "                vecB = datasetB.loc[j,\"vectors\"]\n",
    "                sim_score = self._cosine_sim(vecA,vecB)\n",
    "                \n",
    "                if sim_score > threshold:\n",
    "                    ind_A.append(i)\n",
    "                    ind_B.append(j)\n",
    "                    score_record.append(sim_score)\n",
    "                    \n",
    "        matchesA = datasetA.loc[ind_A,:].drop(datasetA.columns[[0]],axis = 1)\n",
    "        #matchesA = matchesA.set_index(pd.Index(range(0,len(matchesA))))#.drop(['level_0','index'], axis=1, inplace=True)#.reset_index(inplace = True, drop = True)\n",
    "        matchesB = datasetB.loc[ind_B,:].drop(datasetB.columns[[0]],axis = 1)#.reset_index(inplace = True, drop = True)\n",
    "        full_data = pd.concat([matchesA.reset_index(drop = True),matchesB.reset_index(drop = True)], axis=1)       \n",
    "        full_data['Cosine_similarity'] = score_record\n",
    "                    #result.loc[l,\"similarity\"] = sim_score\n",
    "                    #result.loc[l,colsA] = datasetA.loc[i,colsB]\n",
    "                    #result.loc[l,colsB] = datasetB.loc[j,colsB]\n",
    "                    #l += 1\n",
    "        print(\"\\n\",\"\\n\")\n",
    "        print(\"We have your matches! Let's do some cleaning to tidy the results!\")\n",
    "        print(\"\\n\",\"\\n\")\n",
    "        \n",
    "        \"\"\"Some additionnal cleaning for the end result\"\"\"\n",
    "        intermediate = self.similarity_join(full_data)   \n",
    "        \n",
    "        \"\"\"Recommended column names for easy grpah formatting afterwards\"\"\"\n",
    "        final = self.graph_format(intermediate)            \n",
    "        \n",
    "        print(\"\\n\",\"\\n\")\n",
    "        print(\"We're all set, go visualize that data!\")\n",
    "        print(\"\\n\",\"\\n\")\n",
    "        \n",
    "        return final"
   ]
  },
  {
   "cell_type": "code",
   "execution_count": 26,
   "metadata": {},
   "outputs": [
    {
     "name": "stdout",
     "output_type": "stream",
     "text": [
      "These are the columns of the first dataset you want to match:\n",
      "\n",
      "\n",
      "\n",
      "\n",
      "Course_code\n",
      "program\n",
      "Course_name\n",
      "Course_content\n",
      "Course_master\n",
      "\n",
      "\n"
     ]
    },
    {
     "name": "stdin",
     "output_type": "stream",
     "text": [
      "What's the name of the column that contains the strings you'd like to use for matching? Course_name\n",
      "Are there other columns that should be used for the matching? If not type \"stop\"! Course_content\n"
     ]
    },
    {
     "name": "stdout",
     "output_type": "stream",
     "text": [
      "\n",
      "\n",
      "You've already selected the following:\n",
      "\n",
      "\n",
      "Course_name\n",
      "Course_content\n",
      "\n",
      "\n"
     ]
    },
    {
     "name": "stdin",
     "output_type": "stream",
     "text": [
      "Are there other columns that should be used for the matching? If not type \"stop\"! stop\n"
     ]
    },
    {
     "name": "stdout",
     "output_type": "stream",
     "text": [
      "\n",
      "\n",
      "Moving on!\n",
      "\n",
      "\n",
      "\n",
      "\n",
      "Please wait while we process your data!\n",
      "\n",
      "\n",
      "These are the columns of the second dataset you want to match:\n",
      "\n",
      "\n",
      "\n",
      "\n",
      "conceptType\n",
      "conceptUri\n",
      "skillType\n",
      "reuseLevel\n",
      "preferredLabel\n",
      "altLabels\n",
      "description\n",
      "\n",
      "\n"
     ]
    },
    {
     "name": "stdin",
     "output_type": "stream",
     "text": [
      "What's the name of the column that contains the strings you'd like to use for matching? description\n",
      "Are there other columns that should be used for the matching? If not type \"stop\"! preferredLabel\n"
     ]
    },
    {
     "name": "stdout",
     "output_type": "stream",
     "text": [
      "\n",
      "\n",
      "You've already selected the following:\n",
      "\n",
      "\n",
      "description\n",
      "preferredLabel\n",
      "\n",
      "\n"
     ]
    },
    {
     "name": "stdin",
     "output_type": "stream",
     "text": [
      "Are there other columns that should be used for the matching? If not type \"stop\"! stop\n"
     ]
    },
    {
     "name": "stdout",
     "output_type": "stream",
     "text": [
      "\n",
      "\n",
      "Moving on!\n",
      "\n",
      "\n",
      "\n",
      "\n",
      "Please wait while we process your data!\n",
      "\n",
      "\n",
      "\n",
      "\n",
      "We cleaned your data!\n",
      "\n",
      "\n",
      "Please wait while we figure out the matches!\n",
      "\n",
      "\n",
      "\n",
      " \n",
      "\n",
      "We have your matches! Let's do some cleaning to tidy the results!\n",
      "\n",
      " \n",
      "\n",
      "\n",
      "\n",
      "The data model we considered for our graph rendering in the shiny app is as follows: \n",
      " \n",
      " University \n",
      " Program \n",
      " Course \n",
      " Skill \n",
      " \n",
      " We highly recommend you select the columns in your dataset corresponding to those cited above if you want to visualize your matches in our Shinyapp. \n",
      " Although this is entirely your decision, you may keep the ones you see as fittest. \n",
      " If you do decide to follow our data model and wish to upload your data to our graph rendering, please specify which columns lin your data listed below correspond to the information listed above \n",
      "\n",
      "program\n",
      "Course_name\n",
      "Course_content\n",
      "Course_master\n",
      "Extended\n",
      "Clean_strings\n",
      "vectors\n",
      "conceptUri\n",
      "skillType\n",
      "reuseLevel\n",
      "preferredLabel\n",
      "altLabels\n",
      "description\n",
      "Extended\n",
      "Clean_strings\n",
      "vectors\n",
      "Cosine_similarity\n",
      "\n",
      "\n"
     ]
    },
    {
     "name": "stdin",
     "output_type": "stream",
     "text": [
      "Which columns would you like to keep? program\n"
     ]
    },
    {
     "name": "stdout",
     "output_type": "stream",
     "text": [
      "\n",
      "\n"
     ]
    },
    {
     "name": "stdin",
     "output_type": "stream",
     "text": [
      "Any more columns you want to keep? If not type \"stop\"! \n"
     ]
    },
    {
     "name": "stdout",
     "output_type": "stream",
     "text": [
      "\n",
      "\n",
      "This columns doesn't exist in your data, try another one from the list printed above!\n",
      "\n",
      "\n"
     ]
    },
    {
     "name": "stdin",
     "output_type": "stream",
     "text": [
      "Any more columns you want to keep? If not type \"stop\"! Course_name\n"
     ]
    },
    {
     "name": "stdout",
     "output_type": "stream",
     "text": [
      "\n",
      "\n"
     ]
    },
    {
     "name": "stdin",
     "output_type": "stream",
     "text": [
      "Any more columns you want to keep? If not type \"stop\"! preferredLabel\n"
     ]
    },
    {
     "name": "stdout",
     "output_type": "stream",
     "text": [
      "\n",
      "\n"
     ]
    },
    {
     "name": "stdin",
     "output_type": "stream",
     "text": [
      "Any more columns you want to keep? If not type \"stop\"! Cosine_similarity\n"
     ]
    },
    {
     "name": "stdout",
     "output_type": "stream",
     "text": [
      "\n",
      "\n"
     ]
    },
    {
     "name": "stdin",
     "output_type": "stream",
     "text": [
      "Any more columns you want to keep? If not type \"stop\"! stop\n"
     ]
    },
    {
     "name": "stdout",
     "output_type": "stream",
     "text": [
      "\n",
      "\n",
      "You stopped the process\n",
      "\n",
      "\n",
      "\n",
      "\n"
     ]
    },
    {
     "name": "stdin",
     "output_type": "stream",
     "text": [
      "Are you using our data model? If so type \"Yes\". If not, please type \"Goodbye\" Goodbye\n"
     ]
    },
    {
     "name": "stdout",
     "output_type": "stream",
     "text": [
      "\n",
      "\n",
      "K bye :'(\n",
      "\n",
      " \n",
      "\n",
      "We're all set, go visualize that data!\n",
      "\n",
      " \n",
      "\n",
      "52.465248823165894\n"
     ]
    }
   ],
   "source": [
    "start = time.time()\n",
    "\n",
    "# Load the word2bec model of your preferrence \n",
    "ds = DocSimV3(wv_from_bin)\n",
    "\n",
    "results = ds.calculate_similarity(path_A = \"Scraped Universities/Courses_ULatvia_all.csv\",\n",
    "                                  path_B = \"Scraped Universities/skills_en.csv\",\n",
    "                                  threshold = 0)\n",
    "end = time.time()\n",
    "print(end-start)"
   ]
  },
  {
   "cell_type": "code",
   "execution_count": null,
   "metadata": {},
   "outputs": [],
   "source": [
    "start = time.time()\n",
    "ds = DocSimV3(wv_from_bin)\n",
    "results = ds.calculate_similarity(path_A = \"Scraped Universities/Courses_UMalta.csv\",\n",
    "                                  path_B = \"Scraped Universities/skills_en.csv\",\n",
    "                                  threshold = 0)\n",
    "end = time.time()\n",
    "print(end-start)"
   ]
  },
  {
   "cell_type": "code",
   "execution_count": 38,
   "metadata": {},
   "outputs": [
    {
     "data": {
      "text/html": [
       "<div>\n",
       "<style scoped>\n",
       "    .dataframe tbody tr th:only-of-type {\n",
       "        vertical-align: middle;\n",
       "    }\n",
       "\n",
       "    .dataframe tbody tr th {\n",
       "        vertical-align: top;\n",
       "    }\n",
       "\n",
       "    .dataframe thead th {\n",
       "        text-align: right;\n",
       "    }\n",
       "</style>\n",
       "<table border=\"1\" class=\"dataframe\">\n",
       "  <thead>\n",
       "    <tr style=\"text-align: right;\">\n",
       "      <th></th>\n",
       "      <th>University</th>\n",
       "      <th>Program</th>\n",
       "      <th>Course</th>\n",
       "      <th>Skills</th>\n",
       "    </tr>\n",
       "  </thead>\n",
       "  <tbody>\n",
       "    <tr>\n",
       "      <th>0</th>\n",
       "      <td>The Univeristy of Malta</td>\n",
       "      <td>Master of Arts in Spirituality (M.A. Spirit.(M...</td>\n",
       "      <td>Spirituality and Life Stages</td>\n",
       "      <td>neuropathology</td>\n",
       "    </tr>\n",
       "    <tr>\n",
       "      <th>1</th>\n",
       "      <td>The Univeristy of Malta</td>\n",
       "      <td>Master of Arts in Spirituality (M.A. Spirit.(M...</td>\n",
       "      <td>Spirituality and Life Stages</td>\n",
       "      <td>transfer viscous soap</td>\n",
       "    </tr>\n",
       "    <tr>\n",
       "      <th>2</th>\n",
       "      <td>The Univeristy of Malta</td>\n",
       "      <td>Master of Arts in Spirituality (M.A. Spirit.(M...</td>\n",
       "      <td>Spirituality and Life Stages</td>\n",
       "      <td>archaeobotany</td>\n",
       "    </tr>\n",
       "    <tr>\n",
       "      <th>3</th>\n",
       "      <td>The Univeristy of Malta</td>\n",
       "      <td>Master of Arts in Media and Communications (M....</td>\n",
       "      <td>Film, Technology and the Literary Canon</td>\n",
       "      <td>neuropathology</td>\n",
       "    </tr>\n",
       "    <tr>\n",
       "      <th>4</th>\n",
       "      <td>The Univeristy of Malta</td>\n",
       "      <td>Master of Arts in Media and Communications (M....</td>\n",
       "      <td>Film, Technology and the Literary Canon</td>\n",
       "      <td>transfer viscous soap</td>\n",
       "    </tr>\n",
       "  </tbody>\n",
       "</table>\n",
       "</div>"
      ],
      "text/plain": [
       "                University                                            Program  \\\n",
       "0  The Univeristy of Malta  Master of Arts in Spirituality (M.A. Spirit.(M...   \n",
       "1  The Univeristy of Malta  Master of Arts in Spirituality (M.A. Spirit.(M...   \n",
       "2  The Univeristy of Malta  Master of Arts in Spirituality (M.A. Spirit.(M...   \n",
       "3  The Univeristy of Malta  Master of Arts in Media and Communications (M....   \n",
       "4  The Univeristy of Malta  Master of Arts in Media and Communications (M....   \n",
       "\n",
       "                                    Course                 Skills  \n",
       "0             Spirituality and Life Stages         neuropathology  \n",
       "1             Spirituality and Life Stages  transfer viscous soap  \n",
       "2             Spirituality and Life Stages          archaeobotany  \n",
       "3  Film, Technology and the Literary Canon         neuropathology  \n",
       "4  Film, Technology and the Literary Canon  transfer viscous soap  "
      ]
     },
     "execution_count": 38,
     "metadata": {},
     "output_type": "execute_result"
    }
   ],
   "source": [
    "results.head()"
   ]
  }
 ],
 "metadata": {
  "kernelspec": {
   "display_name": "Python 3",
   "language": "python",
   "name": "python3"
  },
  "language_info": {
   "codemirror_mode": {
    "name": "ipython",
    "version": 3
   },
   "file_extension": ".py",
   "mimetype": "text/x-python",
   "name": "python",
   "nbconvert_exporter": "python",
   "pygments_lexer": "ipython3",
   "version": "3.6.8"
  }
 },
 "nbformat": 4,
 "nbformat_minor": 2
}
